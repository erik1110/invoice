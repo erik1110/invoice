{
 "cells": [
  {
   "cell_type": "code",
   "execution_count": 1,
   "id": "da8b5669-2b63-452b-92b6-6b37b119fcc2",
   "metadata": {
    "tags": []
   },
   "outputs": [],
   "source": [
    "import tw_invoice\n",
    "from datetime import date\n",
    "twi = tw_invoice.AppAPIClient(app_id=\"YOUR_APP_ID\", api_key=\"YOUR_APP_KEY\", max_retries=3, skip_validation=True, timeout=(3,1))"
   ]
  },
  {
   "cell_type": "code",
   "execution_count": 7,
   "id": "c4f891bc-9a63-4755-9b41-4e0a0b98ce9f",
   "metadata": {
    "tags": []
   },
   "outputs": [
    {
     "data": {
      "text/plain": [
       "{'msg': '執行成功',\n",
       " 'updateDate': '1120525',\n",
       " 'code': '200',\n",
       " 'firstPrizeAmt': '0200000',\n",
       " 'superPrizeNo': '20783987',\n",
       " 'firstPrizeNo1': '94899145',\n",
       " 'firstPrizeNo2': '71143793',\n",
       " 'firstPrizeNo3': '41055355',\n",
       " 'spcPrizeAmt': '2000000',\n",
       " 'firstPrizeNo4': '',\n",
       " 'fifthPrizeAmt': '0001000',\n",
       " 'firstPrizeNo5': '',\n",
       " 'fourthPrizeAmt': '0004000',\n",
       " 'spcPrizeNo': '04135859',\n",
       " 'firstPrizeNo6': '',\n",
       " 'firstPrizeNo7': '',\n",
       " 'firstPrizeNo8': '',\n",
       " 'firstPrizeNo9': '',\n",
       " 'secondPrizeAmt': '0040000',\n",
       " 'invoYm': '11204',\n",
       " 'sixthPrizeNo5': '',\n",
       " 'sixthPrizeNo6': '',\n",
       " 'thirdPrizeAmt': '0010000',\n",
       " 'spcPrizeNo2': '',\n",
       " 'spcPrizeNo3': '',\n",
       " 'sixthPrizeNo1': '',\n",
       " 'sixthPrizeNo2': '',\n",
       " 'sixthPrizeNo3': '',\n",
       " 'sixthPrizeNo4': '',\n",
       " 'timeStamp': {'date': 25,\n",
       "  'hours': 14,\n",
       "  'seconds': 0,\n",
       "  'month': 4,\n",
       "  'timezoneOffset': -480,\n",
       "  'year': 123,\n",
       "  'minutes': 14,\n",
       "  'time': 1684995240760,\n",
       "  'day': 4},\n",
       " 'superPrizeAmt': '10000000',\n",
       " 'sixthPrizeAmt': '0000200',\n",
       " 'v': '0.2',\n",
       " 'firstPrizeNo10': ''}"
      ]
     },
     "execution_count": 7,
     "metadata": {},
     "output_type": "execute_result"
    }
   ],
   "source": [
    "# 查詢發票明細\n",
    "## BarCode\n",
    "r = twi.get_lottery_numbers(invoice_term=\"11204\")\n",
    "r"
   ]
  },
  {
   "cell_type": "code",
   "execution_count": null,
   "id": "598c793e-4953-45d4-9591-88f2f4f5ebf6",
   "metadata": {},
   "outputs": [],
   "source": []
  }
 ],
 "metadata": {
  "kernelspec": {
   "display_name": "Python 3 (ipykernel)",
   "language": "python",
   "name": "python3"
  },
  "language_info": {
   "codemirror_mode": {
    "name": "ipython",
    "version": 3
   },
   "file_extension": ".py",
   "mimetype": "text/x-python",
   "name": "python",
   "nbconvert_exporter": "python",
   "pygments_lexer": "ipython3",
   "version": "3.8.1"
  }
 },
 "nbformat": 4,
 "nbformat_minor": 5
}
