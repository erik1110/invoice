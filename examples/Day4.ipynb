{
 "cells": [
  {
   "cell_type": "code",
   "execution_count": 1,
   "id": "430c60bc-4756-4244-b718-7d838e32e0da",
   "metadata": {
    "tags": []
   },
   "outputs": [],
   "source": [
    "import requests\n",
    "from uuid import uuid4"
   ]
  },
  {
   "cell_type": "code",
   "execution_count": 2,
   "id": "badb8dae-83c3-4773-8c28-5393f219d21c",
   "metadata": {
    "tags": []
   },
   "outputs": [],
   "source": [
    "appID = \"YOUR_APP_ID\""
   ]
  },
  {
   "cell_type": "code",
   "execution_count": 5,
   "id": "9c7cb7e3-6326-4bd3-becd-ca05fef59338",
   "metadata": {
    "tags": []
   },
   "outputs": [],
   "source": [
    "url = 'https://api.einvoice.nat.gov.tw/PB2CAPIVAN/invapp/InvApp'"
   ]
  },
  {
   "cell_type": "code",
   "execution_count": 14,
   "id": "6fe426b6-5f29-4d65-b703-9d6dee777a98",
   "metadata": {
    "tags": []
   },
   "outputs": [
    {
     "name": "stdout",
     "output_type": "stream",
     "text": [
      "Request failed with error: HTTPSConnectionPool(host='api.einvoice.nat.gov.tw', port=443): Max retries exceeded with url: /PB2CAPIVAN/invapp/InvApp (Caused by ConnectTimeoutError(<urllib3.connection.HTTPSConnection object at 0x7fd00801ab20>, 'Connection to api.einvoice.nat.gov.tw timed out. (connect timeout=3)'))\n",
      "{\"msg\":\"執行成功\",\"amount\":\"129\",\"code\":\"200\",\"invNum\":\"MB46891606\",\"invoiceTime\":\"13:11:22\",\"invStatus\":\"已確認\",\"sellerName\":\"台灣善商股份有限公司古亭門市\",\"invPeriod\":\"11204\",\"sellerAddress\":\"台北市中正區羅斯福路二段50號1樓\",\"sellerBan\":\"38545381\",\"buyerBan\":\"\",\"currency\":\"\",\"details\":[{\"unitPrice\":\"129\",\"amount\":\"129\",\"quantity\":\"1\",\"rowNum\":\"1\",\"description\":\"牛丼 中 ^○青Ｓ\"}],\"invDate\":\"20230408\"}\n"
     ]
    }
   ],
   "source": [
    "import requests\n",
    "from requests.exceptions import RequestException\n",
    "from functools import wraps\n",
    "import time\n",
    "\n",
    "def retry_request(retries=10):\n",
    "    def decorator(func):\n",
    "        @wraps(func)\n",
    "        def wrapper(*args, **kwargs):\n",
    "            for _ in range(retries):\n",
    "                try:\n",
    "                    response = func(*args, **kwargs)\n",
    "                    response.raise_for_status()\n",
    "                    return response\n",
    "                except (RequestException, Exception) as e:\n",
    "                    print(f\"Request failed with error: {e}\")\n",
    "            raise Exception(f\"Request failed after {retries} retries\")\n",
    "\n",
    "        return wrapper\n",
    "\n",
    "    return decorator\n",
    "\n",
    "@retry_request(retries=50)\n",
    "def send_request(url, data):\n",
    "    response = requests.post(url, data=data, timeout=(3, 1))\n",
    "    return response\n",
    "\n",
    "try:\n",
    "    data = {'version': '0.6', \n",
    "            'type': 'Barcode',\n",
    "            'invNum': 'MB46891606',\n",
    "            'action': 'qryInvDetail',\n",
    "            'generation': 'V2',\n",
    "            'invTerm': '11204',\n",
    "            'invDate': '2023/04/08',\n",
    "            'UUID': str(uuid4()),\n",
    "            'randomNumber': '7828',\n",
    "            'appID': appID\n",
    "    }\n",
    "    response = send_request(url, data)\n",
    "    print(response.text)\n",
    "except Exception as e:\n",
    "    print(f\"Failed to send request: {e}\")\n"
   ]
  },
  {
   "cell_type": "code",
   "execution_count": null,
   "id": "e71f9d63-5a8a-48a3-890e-74f518bc89c6",
   "metadata": {},
   "outputs": [],
   "source": []
  }
 ],
 "metadata": {
  "kernelspec": {
   "display_name": "Python 3 (ipykernel)",
   "language": "python",
   "name": "python3"
  },
  "language_info": {
   "codemirror_mode": {
    "name": "ipython",
    "version": 3
   },
   "file_extension": ".py",
   "mimetype": "text/x-python",
   "name": "python",
   "nbconvert_exporter": "python",
   "pygments_lexer": "ipython3",
   "version": "3.8.1"
  }
 },
 "nbformat": 4,
 "nbformat_minor": 5
}
