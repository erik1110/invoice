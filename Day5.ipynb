{
 "cells": [
  {
   "cell_type": "code",
   "execution_count": 1,
   "id": "da8b5669-2b63-452b-92b6-6b37b119fcc2",
   "metadata": {
    "tags": []
   },
   "outputs": [],
   "source": [
    "import tw_invoice\n",
    "from datetime import date\n",
    "twi = tw_invoice.AppAPIClient(app_id=\"YOUR_APP_ID\", api_key=\"YOUR_APP_KEY\", max_retries=10, skip_validation=True, timeout=(3,1))"
   ]
  },
  {
   "cell_type": "code",
   "execution_count": 3,
   "id": "2345a36b-c8b6-4ef3-9968-bce901d48cc2",
   "metadata": {
    "tags": []
   },
   "outputs": [
    {
     "data": {
      "text/plain": [
       "{'msg': '執行成功',\n",
       " 'amount': '129',\n",
       " 'code': '200',\n",
       " 'invNum': 'MB46891606',\n",
       " 'invoiceTime': '13:11:22',\n",
       " 'invStatus': '已確認',\n",
       " 'sellerName': '台灣善商股份有限公司古亭門市',\n",
       " 'invPeriod': '11204',\n",
       " 'sellerAddress': '台北市中正區羅斯福路二段50號1樓',\n",
       " 'sellerBan': '38545381',\n",
       " 'buyerBan': '',\n",
       " 'currency': '',\n",
       " 'details': [{'unitPrice': '129',\n",
       "   'amount': '129',\n",
       "   'quantity': '1',\n",
       "   'rowNum': '1',\n",
       "   'description': '牛丼 中 ^○青Ｓ'}],\n",
       " 'invDate': '20230408'}"
      ]
     },
     "execution_count": 3,
     "metadata": {},
     "output_type": "execute_result"
    }
   ],
   "source": [
    "# 查詢發票明細\n",
    "## BarCode\n",
    "r = twi.get_invoice_detail(barcode_type=\"Barcode\",\n",
    "                           invoice_number=\"MB46891606\",\n",
    "                           invoice_date=date(2023, 4, 8),\n",
    "                           invoice_random=\"7828\",\n",
    "                           invoice_term=\"11204\")\n",
    "r"
   ]
  },
  {
   "cell_type": "code",
   "execution_count": null,
   "id": "42958877-64b3-4bfa-8a30-022ab80f4633",
   "metadata": {},
   "outputs": [],
   "source": []
  }
 ],
 "metadata": {
  "kernelspec": {
   "display_name": "Python 3 (ipykernel)",
   "language": "python",
   "name": "python3"
  },
  "language_info": {
   "codemirror_mode": {
    "name": "ipython",
    "version": 3
   },
   "file_extension": ".py",
   "mimetype": "text/x-python",
   "name": "python",
   "nbconvert_exporter": "python",
   "pygments_lexer": "ipython3",
   "version": "3.8.1"
  }
 },
 "nbformat": 4,
 "nbformat_minor": 5
}
