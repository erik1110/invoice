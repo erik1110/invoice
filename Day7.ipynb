{
 "cells": [
  {
   "cell_type": "code",
   "execution_count": 1,
   "id": "da8b5669-2b63-452b-92b6-6b37b119fcc2",
   "metadata": {
    "tags": []
   },
   "outputs": [],
   "source": [
    "import tw_invoice\n",
    "from datetime import date\n",
    "twi = tw_invoice.AppAPIClient(app_id=\"YOUR_APP_ID\", api_key=\"YOUR_APP_KEY\", max_retries=3, skip_validation=True, timeout=(3,1))"
   ]
  },
  {
   "cell_type": "code",
   "execution_count": 2,
   "id": "42958877-64b3-4bfa-8a30-022ab80f4633",
   "metadata": {},
   "outputs": [],
   "source": [
    "qrcode = \"MB46891606112040878280000007b000000810000000038545381aDEF7EG8EeFrGwiRu8SlTA==:**********:1:1:1:牛丼 中 ^○青Ｓ:1:129\""
   ]
  },
  {
   "cell_type": "code",
   "execution_count": 3,
   "id": "2c08f5f0-c993-4460-9336-5ad688330c92",
   "metadata": {
    "tags": []
   },
   "outputs": [],
   "source": [
    "invoice_number = qrcode[:10]\n",
    "year = int(qrcode[10:13]) + 1911\n",
    "month = int(qrcode[13:15])\n",
    "day = int(qrcode[15:17])\n",
    "invoice_random = qrcode[17:21]\n",
    "seller_id = qrcode[45:53]\n",
    "invoice_encrypt = qrcode[53:53+24]"
   ]
  },
  {
   "cell_type": "code",
   "execution_count": 4,
   "id": "2a812f1e-0691-4816-bb64-6bc19ac17bb5",
   "metadata": {
    "tags": []
   },
   "outputs": [
    {
     "data": {
      "text/plain": [
       "{'msg': '執行成功',\n",
       " 'amount': '129',\n",
       " 'code': '200',\n",
       " 'invNum': 'MB46891606',\n",
       " 'invoiceTime': '13:11:22',\n",
       " 'invStatus': '已確認',\n",
       " 'sellerName': '台灣善商股份有限公司古亭門市',\n",
       " 'invPeriod': '11204',\n",
       " 'sellerAddress': '台北市中正區羅斯福路二段50號1樓',\n",
       " 'sellerBan': '38545381',\n",
       " 'buyerBan': '',\n",
       " 'currency': '',\n",
       " 'details': [{'unitPrice': '129',\n",
       "   'amount': '129',\n",
       "   'quantity': '1',\n",
       "   'rowNum': '1',\n",
       "   'description': '牛丼 中 ^○青Ｓ'}],\n",
       " 'invDate': '20230408'}"
      ]
     },
     "execution_count": 4,
     "metadata": {},
     "output_type": "execute_result"
    }
   ],
   "source": [
    "# 查詢發票明細\n",
    "## BarCode\n",
    "r = twi.get_invoice_detail(barcode_type=\"QRCode\",\n",
    "                           invoice_number=invoice_number,\n",
    "                           invoice_date=date(year, month, day),\n",
    "                           invoice_random=invoice_random,\n",
    "                           seller_id=seller_id,\n",
    "                           invoice_encrypt=invoice_encrypt)\n",
    "r"
   ]
  },
  {
   "cell_type": "code",
   "execution_count": null,
   "id": "c4f891bc-9a63-4755-9b41-4e0a0b98ce9f",
   "metadata": {},
   "outputs": [],
   "source": []
  },
  {
   "cell_type": "code",
   "execution_count": null,
   "id": "598c793e-4953-45d4-9591-88f2f4f5ebf6",
   "metadata": {},
   "outputs": [],
   "source": []
  }
 ],
 "metadata": {
  "kernelspec": {
   "display_name": "Python 3 (ipykernel)",
   "language": "python",
   "name": "python3"
  },
  "language_info": {
   "codemirror_mode": {
    "name": "ipython",
    "version": 3
   },
   "file_extension": ".py",
   "mimetype": "text/x-python",
   "name": "python",
   "nbconvert_exporter": "python",
   "pygments_lexer": "ipython3",
   "version": "3.8.1"
  }
 },
 "nbformat": 4,
 "nbformat_minor": 5
}
